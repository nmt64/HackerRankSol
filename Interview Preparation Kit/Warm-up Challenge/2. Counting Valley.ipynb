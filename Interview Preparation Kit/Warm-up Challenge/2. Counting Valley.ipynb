{
 "cells": [
  {
   "cell_type": "code",
   "execution_count": null,
   "metadata": {},
   "outputs": [],
   "source": []
  },
  {
   "cell_type": "code",
   "execution_count": 92,
   "metadata": {},
   "outputs": [],
   "source": [
    "n = 8\n",
    "s = \"UDDDUDUU\"\n",
    "# output = 1"
   ]
  },
  {
   "cell_type": "markdown",
   "metadata": {},
   "source": [
    "### solution"
   ]
  },
  {
   "cell_type": "code",
   "execution_count": 110,
   "metadata": {},
   "outputs": [],
   "source": [
    "# Complete the countingValleys function below.\n",
    "def countingValleys(n, s):\n",
    "    s_asNr = []\n",
    "    summ = 0\n",
    "    for i in s:\n",
    "        if i == \"U\":\n",
    "            summ = summ+1\n",
    "            s_asNr.append(summ)\n",
    "        else: # if i == \"D\":\n",
    "            summ = summ-1\n",
    "            s_asNr.append(summ)    \n",
    "        \n",
    "    totalValley = 0\n",
    "    for ite,v in enumerate(s_asNr):\n",
    "        if (v==0) and (s_asNr[ite-1] == -1):\n",
    "            totalValley = totalValley+1\n",
    "                \n",
    "    return totalValley"
   ]
  },
  {
   "cell_type": "code",
   "execution_count": 111,
   "metadata": {},
   "outputs": [],
   "source": [
    "def run():\n",
    "    print(\"The sum is {}\".format(countingValleys(n, s)))"
   ]
  },
  {
   "cell_type": "code",
   "execution_count": 112,
   "metadata": {},
   "outputs": [
    {
     "name": "stdout",
     "output_type": "stream",
     "text": [
      "The sum is 1\n"
     ]
    }
   ],
   "source": [
    "if __name__ == \"__main__\":\n",
    "    run()"
   ]
  },
  {
   "cell_type": "markdown",
   "metadata": {},
   "source": [
    "### test"
   ]
  },
  {
   "cell_type": "code",
   "execution_count": 98,
   "metadata": {},
   "outputs": [],
   "source": [
    "s_asNr = []\n",
    "summ = 0\n",
    "for i in s:\n",
    "    if i == \"U\":\n",
    "        summ = summ+1\n",
    "        s_asNr.append(summ)\n",
    "    if i == \"D\":\n",
    "        summ = summ-1\n",
    "        s_asNr.append(summ)"
   ]
  },
  {
   "cell_type": "code",
   "execution_count": 99,
   "metadata": {},
   "outputs": [
    {
     "data": {
      "text/plain": [
       "[1, 0, -1, -2, -1, -2, -1, 0]"
      ]
     },
     "execution_count": 99,
     "metadata": {},
     "output_type": "execute_result"
    }
   ],
   "source": [
    "s_asNr"
   ]
  },
  {
   "cell_type": "code",
   "execution_count": 108,
   "metadata": {},
   "outputs": [
    {
     "name": "stdout",
     "output_type": "stream",
     "text": [
      "-1\n"
     ]
    }
   ],
   "source": [
    "totalValley = 0\n",
    "for ite,v in enumerate(s_asNr):\n",
    "    if (v==0) and (s_asNr[ite-1] == -1):\n",
    "        totalValley = totalValley+1"
   ]
  },
  {
   "cell_type": "code",
   "execution_count": 109,
   "metadata": {},
   "outputs": [
    {
     "data": {
      "text/plain": [
       "1"
      ]
     },
     "execution_count": 109,
     "metadata": {},
     "output_type": "execute_result"
    }
   ],
   "source": [
    "totalValley"
   ]
  },
  {
   "cell_type": "markdown",
   "metadata": {},
   "source": [
    "### old solution"
   ]
  },
  {
   "cell_type": "code",
   "execution_count": 79,
   "metadata": {},
   "outputs": [],
   "source": [
    "sumList = \"\"\n",
    "summ = 0\n",
    "\n",
    "for i in s:\n",
    "    if i == \"U\":\n",
    "        summ = summ+1\n",
    "    if i == \"D\":\n",
    "        summ = summ-1\n",
    "    sumList = sumList + str(summ)\n"
   ]
  },
  {
   "cell_type": "code",
   "execution_count": 80,
   "metadata": {},
   "outputs": [
    {
     "data": {
      "text/plain": [
       "'10-1-2-1-2-10'"
      ]
     },
     "execution_count": 80,
     "metadata": {},
     "output_type": "execute_result"
    }
   ],
   "source": [
    "sumList"
   ]
  },
  {
   "cell_type": "code",
   "execution_count": 88,
   "metadata": {},
   "outputs": [],
   "source": [
    "totalValley = 0\n",
    "for ite,v in enumerate(sumList):\n",
    "    if v==\"0\":\n",
    "#         print(ite)\n",
    "        if sumList[ite-2:ite] == \"-1\":\n",
    "            totalValley = totalValley+1\n",
    "#             print(ite)"
   ]
  },
  {
   "cell_type": "code",
   "execution_count": 81,
   "metadata": {},
   "outputs": [],
   "source": [
    "    \n",
    "# totalValley = 0\n",
    "# for s in sumList.split(\"0\"):\n",
    "#      if len(s)>0:\n",
    "#         if s[0] == \"-\":\n",
    "#             totalValley = totalValley+1"
   ]
  },
  {
   "cell_type": "code",
   "execution_count": 89,
   "metadata": {},
   "outputs": [
    {
     "data": {
      "text/plain": [
       "1"
      ]
     },
     "execution_count": 89,
     "metadata": {},
     "output_type": "execute_result"
    }
   ],
   "source": [
    "totalValley"
   ]
  },
  {
   "cell_type": "markdown",
   "metadata": {},
   "source": [
    "### thinking path"
   ]
  },
  {
   "cell_type": "code",
   "execution_count": 6,
   "metadata": {},
   "outputs": [],
   "source": [
    "s_asNr = []"
   ]
  },
  {
   "cell_type": "code",
   "execution_count": 7,
   "metadata": {},
   "outputs": [],
   "source": [
    "for i in s:\n",
    "    if i == \"U\":\n",
    "        s_asNr.append(1)\n",
    "    if i == \"D\":\n",
    "        s_asNr.append(-1)"
   ]
  },
  {
   "cell_type": "code",
   "execution_count": 8,
   "metadata": {},
   "outputs": [
    {
     "data": {
      "text/plain": [
       "[1, -1, -1, -1, 1, -1, 1, 1]"
      ]
     },
     "execution_count": 8,
     "metadata": {},
     "output_type": "execute_result"
    }
   ],
   "source": [
    "s_asNr"
   ]
  },
  {
   "cell_type": "code",
   "execution_count": 16,
   "metadata": {},
   "outputs": [],
   "source": [
    "sumList = \"\""
   ]
  },
  {
   "cell_type": "code",
   "execution_count": 17,
   "metadata": {},
   "outputs": [
    {
     "name": "stdout",
     "output_type": "stream",
     "text": [
      "1\n",
      "0\n",
      "-1\n",
      "-2\n",
      "-1\n",
      "-2\n",
      "-1\n",
      "0\n"
     ]
    }
   ],
   "source": [
    "# s is summ\n",
    "s = 0\n",
    "for i in s_asNr:\n",
    "    s = s + i\n",
    "    print(s)\n",
    "    sumList = sumList + str(s)"
   ]
  },
  {
   "cell_type": "code",
   "execution_count": 55,
   "metadata": {},
   "outputs": [
    {
     "data": {
      "text/plain": [
       "'10-1-2-1-2-10'"
      ]
     },
     "execution_count": 55,
     "metadata": {},
     "output_type": "execute_result"
    }
   ],
   "source": [
    "sumList"
   ]
  },
  {
   "cell_type": "code",
   "execution_count": 56,
   "metadata": {},
   "outputs": [
    {
     "data": {
      "text/plain": [
       "'10-1-2-1-2-1'"
      ]
     },
     "execution_count": 56,
     "metadata": {},
     "output_type": "execute_result"
    }
   ],
   "source": [
    "sumList[:-1]"
   ]
  },
  {
   "cell_type": "code",
   "execution_count": 57,
   "metadata": {},
   "outputs": [
    {
     "data": {
      "text/plain": [
       "['1', '-1-2-1-2-1']"
      ]
     },
     "execution_count": 57,
     "metadata": {},
     "output_type": "execute_result"
    }
   ],
   "source": [
    "sumList[:-1].split(\"0\")"
   ]
  },
  {
   "cell_type": "code",
   "execution_count": null,
   "metadata": {},
   "outputs": [],
   "source": []
  },
  {
   "cell_type": "code",
   "execution_count": 58,
   "metadata": {},
   "outputs": [],
   "source": [
    "totalValley = 0\n",
    "for s in sumList[:-1].split(\"0\"):\n",
    "    if s[0] == \"-\":\n",
    "        totalValley = totalValley+1"
   ]
  },
  {
   "cell_type": "code",
   "execution_count": 59,
   "metadata": {},
   "outputs": [
    {
     "data": {
      "text/plain": [
       "1"
      ]
     },
     "execution_count": 59,
     "metadata": {},
     "output_type": "execute_result"
    }
   ],
   "source": [
    "totalValley"
   ]
  },
  {
   "cell_type": "code",
   "execution_count": null,
   "metadata": {},
   "outputs": [],
   "source": []
  }
 ],
 "metadata": {
  "kernelspec": {
   "display_name": "Python 3",
   "language": "python",
   "name": "python3"
  },
  "language_info": {
   "codemirror_mode": {
    "name": "ipython",
    "version": 3
   },
   "file_extension": ".py",
   "mimetype": "text/x-python",
   "name": "python",
   "nbconvert_exporter": "python",
   "pygments_lexer": "ipython3",
   "version": "3.5.2"
  }
 },
 "nbformat": 4,
 "nbformat_minor": 2
}
